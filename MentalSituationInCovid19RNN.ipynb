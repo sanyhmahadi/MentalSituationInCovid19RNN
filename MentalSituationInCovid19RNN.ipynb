{
  "nbformat": 4,
  "nbformat_minor": 0,
  "metadata": {
    "colab": {
      "name": "MentalSituationInCovid19RNN.ipynb",
      "provenance": [],
      "collapsed_sections": [],
      "include_colab_link": true
    },
    "kernelspec": {
      "name": "python3",
      "display_name": "Python 3"
    },
    "language_info": {
      "name": "python"
    }
  },
  "cells": [
    {
      "cell_type": "markdown",
      "metadata": {
        "id": "view-in-github",
        "colab_type": "text"
      },
      "source": [
        "<a href=\"https://colab.research.google.com/github/sanyhmahadi/MentalSituationInCovid19RNN/blob/main/MentalSituationInCovid19RNN.ipynb\" target=\"_parent\"><img src=\"https://colab.research.google.com/assets/colab-badge.svg\" alt=\"Open In Colab\"/></a>"
      ]
    },
    {
      "cell_type": "code",
      "metadata": {
        "id": "JUBcAHSs2-hC"
      },
      "source": [
        "import pandas as pd\n",
        "df = pd.read_excel(\"/content/drive/MyDrive/Research/NLP/covidSentimentData.xlsx\")"
      ],
      "execution_count": null,
      "outputs": []
    },
    {
      "cell_type": "code",
      "metadata": {
        "colab": {
          "base_uri": "https://localhost:8080/",
          "height": 204
        },
        "id": "iH9-3kKp3Isu",
        "outputId": "b871f3c5-c75d-4476-e645-a586dd934165"
      },
      "source": [
        "df.head(5)"
      ],
      "execution_count": null,
      "outputs": [
        {
          "output_type": "execute_result",
          "data": {
            "text/html": [
              "<div>\n",
              "<style scoped>\n",
              "    .dataframe tbody tr th:only-of-type {\n",
              "        vertical-align: middle;\n",
              "    }\n",
              "\n",
              "    .dataframe tbody tr th {\n",
              "        vertical-align: top;\n",
              "    }\n",
              "\n",
              "    .dataframe thead th {\n",
              "        text-align: right;\n",
              "    }\n",
              "</style>\n",
              "<table border=\"1\" class=\"dataframe\">\n",
              "  <thead>\n",
              "    <tr style=\"text-align: right;\">\n",
              "      <th></th>\n",
              "      <th>TypeOfOpinion</th>\n",
              "      <th>Status</th>\n",
              "    </tr>\n",
              "  </thead>\n",
              "  <tbody>\n",
              "    <tr>\n",
              "      <th>0</th>\n",
              "      <td>স্বাস্থ সচেতন হয়েছি, এই সময়ে সময়ে এক্সট্রা এ এ...</td>\n",
              "      <td>yes</td>\n",
              "    </tr>\n",
              "    <tr>\n",
              "      <th>1</th>\n",
              "      <td>স্বাস্থ সচেতন হয়েছি, এই সময়ে সময়ে এক্সট্রা এ এ...</td>\n",
              "      <td>yes</td>\n",
              "    </tr>\n",
              "    <tr>\n",
              "      <th>2</th>\n",
              "      <td>স্বাস্থ সচেতন হয়েছি, এই সময়ে সময়ে এক্সট্রা এ এ...</td>\n",
              "      <td>No</td>\n",
              "    </tr>\n",
              "    <tr>\n",
              "      <th>3</th>\n",
              "      <td>পড়ালেখা বিঘ্নিত হয়েছে</td>\n",
              "      <td>yes</td>\n",
              "    </tr>\n",
              "    <tr>\n",
              "      <th>4</th>\n",
              "      <td>স্বাস্থ সচেতন হয়েছি, পড়ালেখা বিঘ্নিত হয়েছে</td>\n",
              "      <td>yes</td>\n",
              "    </tr>\n",
              "  </tbody>\n",
              "</table>\n",
              "</div>"
            ],
            "text/plain": [
              "                                       TypeOfOpinion Status\n",
              "0  স্বাস্থ সচেতন হয়েছি, এই সময়ে সময়ে এক্সট্রা এ এ...    yes\n",
              "1  স্বাস্থ সচেতন হয়েছি, এই সময়ে সময়ে এক্সট্রা এ এ...    yes\n",
              "2  স্বাস্থ সচেতন হয়েছি, এই সময়ে সময়ে এক্সট্রা এ এ...     No\n",
              "3                              পড়ালেখা বিঘ্নিত হয়েছে    yes\n",
              "4         স্বাস্থ সচেতন হয়েছি, পড়ালেখা বিঘ্নিত হয়েছে    yes"
            ]
          },
          "metadata": {
            "tags": []
          },
          "execution_count": 4
        }
      ]
    },
    {
      "cell_type": "code",
      "metadata": {
        "colab": {
          "base_uri": "https://localhost:8080/"
        },
        "id": "Ge_My1a33IvM",
        "outputId": "af42c57a-f89f-4690-ab32-d8530ad0b6ee"
      },
      "source": [
        "df.shape"
      ],
      "execution_count": null,
      "outputs": [
        {
          "output_type": "execute_result",
          "data": {
            "text/plain": [
              "(443, 2)"
            ]
          },
          "metadata": {
            "tags": []
          },
          "execution_count": 5
        }
      ]
    },
    {
      "cell_type": "code",
      "metadata": {
        "colab": {
          "base_uri": "https://localhost:8080/"
        },
        "id": "ICKK95l93Ixn",
        "outputId": "6cb54e96-e781-4dc6-fd1f-3e882174a759"
      },
      "source": [
        "df['TypeOfOpinion'].value_counts()"
      ],
      "execution_count": null,
      "outputs": [
        {
          "output_type": "execute_result",
          "data": {
            "text/plain": [
              "স্বাস্থ সচেতন হয়েছি, পড়ালেখা বিঘ্নিত হয়েছে                                                                                                                                                          66\n",
              "স্বাস্থ সচেতন হয়েছি                                                                                                                                                                                 57\n",
              "স্বাস্থ সচেতন হয়েছি, এই সময়ে সময়ে এক্সট্রা এ এক্টিভেটিস করার যথেষ্ট সময় পেয়েছি, পড়ালেখা বিঘ্নিত হয়েছে                                                                                               46\n",
              "পড়ালেখা বিঘ্নিত হয়েছে                                                                                                                                                                               42\n",
              "স্বাস্থ সচেতন হয়েছি, এই সময়ে সময়ে এক্সট্রা এ এক্টিভেটিস করার যথেষ্ট সময় পেয়েছি                                                                                                                      25\n",
              "এই সময়ে সময়ে এক্সট্রা এ এক্টিভেটিস করার যথেষ্ট সময় পেয়েছি                                                                                                                                           22\n",
              "স্বাস্থ সচেতন হয়েছি, অনলাইন বিজনেস এ লাভবান হয়েছি, এই সময়ে সময়ে এক্সট্রা এ এক্টিভেটিস করার যথেষ্ট সময় পেয়েছি, পড়ালেখা বিঘ্নিত হয়েছে                                                                 16\n",
              "স্বাস্থ সচেতন হয়েছি, অনলাইন বিজনেস এ লাভবান হয়েছি, এই সময়ে সময়ে এক্সট্রা এ এক্টিভেটিস করার যথেষ্ট সময় পেয়েছি                                                                                        16\n",
              "স্বাস্থ সচেতন হয়েছি, এই সময়ে সময়ে এক্সট্রা এ এক্টিভেটিস করার যথেষ্ট সময় পেয়েছি, কভিড-১৯ এ আক্রান্ত হয়েছি, পড়ালেখা বিঘ্নিত হয়েছে                                                                     15\n",
              "স্বাস্থ সচেতন হয়েছি, অনলাইন বিজনেস এ লাভবান হয়েছি                                                                                                                                                   13\n",
              "অনলাইন বিজনেস এ লাভবান হয়েছি                                                                                                                                                                        10\n",
              "স্বাস্থ সচেতন হয়েছি, অনলাইন বিজনেস এ লাভবান হয়েছি, পড়ালেখা বিঘ্নিত হয়েছে                                                                                                                            10\n",
              "কভিড-১৯ এ আক্রান্ত হয়েছি, পরিবারের সাথে দূরত্ব সৃষ্টি হয়েছে, পড়ালেখা বিঘ্নিত হয়েছে                                                                                                                   9\n",
              "এই সময়ে সময়ে এক্সট্রা এ এক্টিভেটিস করার যথেষ্ট সময় পেয়েছি, পড়ালেখা বিঘ্নিত হয়েছে                                                                                                                     9\n",
              "কভিড-১৯ এ আক্রান্ত হয়েছি, পড়ালেখা বিঘ্নিত হয়েছে                                                                                                                                                      9\n",
              "পরিবারের সাথে দূরত্ব সৃষ্টি হয়েছে, পড়ালেখা বিঘ্নিত হয়েছে                                                                                                                                             8\n",
              "পরিবারের সাথে দূরত্ব সৃষ্টি হয়েছে                                                                                                                                                                    7\n",
              "স্বাস্থ সচেতন হয়েছি, অনলাইন বিজনেস এ লাভবান হয়েছি, এই সময়ে সময়ে এক্সট্রা এ এক্টিভেটিস করার যথেষ্ট সময় পেয়েছি, কভিড-১৯ এ আক্রান্ত হয়েছি, পরিবারের সাথে দূরত্ব সৃষ্টি হয়েছে, পড়ালেখা বিঘ্নিত হয়েছে     6\n",
              "কভিড-১৯ এ আক্রান্ত হয়েছি                                                                                                                                                                             6\n",
              "স্বাস্থ সচেতন হয়েছি, কভিড-১৯ এ আক্রান্ত হয়েছি                                                                                                                                                        5\n",
              "অনলাইন বিজনেস এ লাভবান হয়েছি, এই সময়ে সময়ে এক্সট্রা এ এক্টিভেটিস করার যথেষ্ট সময় পেয়েছি                                                                                                              5\n",
              "স্বাস্থ সচেতন হয়েছি, কভিড-১৯ এ আক্রান্ত হয়েছি, পরিবারের সাথে দূরত্ব সৃষ্টি হয়েছে, পড়ালেখা বিঘ্নিত হয়েছে                                                                                              4\n",
              "স্বাস্থ সচেতন হয়েছি, এই সময়ে সময়ে এক্সট্রা এ এক্টিভেটিস করার যথেষ্ট সময় পেয়েছি, পরিবারের সাথে দূরত্ব সৃষ্টি হয়েছে                                                                                    4\n",
              "কভিড-১৯ এ আক্রান্ত হয়েছি, পরিবারের সাথে দূরত্ব সৃষ্টি হয়েছে                                                                                                                                          4\n",
              "অনলাইন বিজনেস এ লাভবান হয়েছি, এই সময়ে সময়ে এক্সট্রা এ এক্টিভেটিস করার যথেষ্ট সময় পেয়েছি, পড়ালেখা বিঘ্নিত হয়েছে                                                                                       4\n",
              "স্বাস্থ সচেতন হয়েছি, পরিবারের সাথে দূরত্ব সৃষ্টি হয়েছে, পড়ালেখা বিঘ্নিত হয়েছে                                                                                                                        4\n",
              "স্বাস্থ সচেতন হয়েছি, কভিড-১৯ এ আক্রান্ত হয়েছি, পড়ালেখা বিঘ্নিত হয়েছে                                                                                                                                 3\n",
              "অনলাইন বিজনেস এ লাভবান হয়েছি, পড়ালেখা বিঘ্নিত হয়েছে                                                                                                                                                  2\n",
              "স্বাস্থ সচেতন হয়েছি, অনলাইন বিজনেস এ লাভবান হয়েছি, পরিবারের সাথে দূরত্ব সৃষ্টি হয়েছে, পড়ালেখা বিঘ্নিত হয়েছে                                                                                          2\n",
              "স্বাস্থ সচেতন হয়েছি, অনলাইন বিজনেস এ লাভবান হয়েছি, পরিবারের সাথে দূরত্ব সৃষ্টি হয়েছে                                                                                                                 2\n",
              "স্বাস্থ সচেতন হয়েছি, অনলাইন বিজনেস এ লাভবান হয়েছি, এই সময়ে সময়ে এক্সট্রা এ এক্টিভেটিস করার যথেষ্ট সময় পেয়েছি, কভিড-১৯ এ আক্রান্ত হয়েছি                                                               2\n",
              "স্বাস্থ সচেতন হয়েছি, এই সময়ে সময়ে এক্সট্রা এ এক্টিভেটিস করার যথেষ্ট সময় পেয়েছি, কভিড-১৯ এ আক্রান্ত হয়েছি, পরিবারের সাথে দূরত্ব সৃষ্টি হয়েছে, পড়ালেখা বিঘ্নিত হয়েছে                                   2\n",
              "স্বাস্থ সচেতন হয়েছি, এই সময়ে সময়ে এক্সট্রা এ এক্টিভেটিস করার যথেষ্ট সময় পেয়েছি, কভিড-১৯ এ আক্রান্ত হয়েছি                                                                                             2\n",
              "অনলাইন বিজনেস এ লাভবান হয়েছি, কভিড-১৯ এ আক্রান্ত হয়েছি                                                                                                                                               1\n",
              "স্বাস্থ সচেতন হয়েছি, কভিড-১৯ এ আক্রান্ত হয়েছি, পরিবারের সাথে দূরত্ব সৃষ্টি হয়েছে                                                                                                                     1\n",
              "অনলাইন বিজনেস এ লাভবান হয়েছি, কভিড-১৯ এ আক্রান্ত হয়েছি, পরিবারের সাথে দূরত্ব সৃষ্টি হয়েছে, পড়ালেখা বিঘ্নিত হয়েছে                                                                                     1\n",
              "এই সময়ে সময়ে এক্সট্রা এ এক্টিভেটিস করার যথেষ্ট সময় পেয়েছি, কভিড-১৯ এ আক্রান্ত হয়েছি, পরিবারের সাথে দূরত্ব সৃষ্টি হয়েছে, পড়ালেখা বিঘ্নিত হয়েছে                                                        1\n",
              "এই সময়ে সময়ে এক্সট্রা এ এক্টিভেটিস করার যথেষ্ট সময় পেয়েছি, পরিবারের সাথে দূরত্ব সৃষ্টি হয়েছে, পড়ালেখা বিঘ্নিত হয়েছে                                                                                  1\n",
              "স্বাস্থ সচেতন হয়েছি, অনলাইন বিজনেস এ লাভবান হয়েছি, এই সময়ে সময়ে এক্সট্রা এ এক্টিভেটিস করার যথেষ্ট সময় পেয়েছি, পরিবারের সাথে দূরত্ব সৃষ্টি হয়েছে                                                      1\n",
              "Name: TypeOfOpinion, dtype: int64"
            ]
          },
          "metadata": {
            "tags": []
          },
          "execution_count": 6
        }
      ]
    },
    {
      "cell_type": "code",
      "metadata": {
        "colab": {
          "base_uri": "https://localhost:8080/"
        },
        "id": "nO_WI0FC3Iz-",
        "outputId": "400ddb8c-f465-47fb-b529-bd3c54f662ab"
      },
      "source": [
        "df.isnull().sum()"
      ],
      "execution_count": null,
      "outputs": [
        {
          "output_type": "execute_result",
          "data": {
            "text/plain": [
              "TypeOfOpinion    0\n",
              "Status           0\n",
              "dtype: int64"
            ]
          },
          "metadata": {
            "tags": []
          },
          "execution_count": 7
        }
      ]
    },
    {
      "cell_type": "code",
      "metadata": {
        "colab": {
          "base_uri": "https://localhost:8080/"
        },
        "id": "Yya1g1733I2n",
        "outputId": "44224cd6-26f6-4174-a2ee-e8bb3612ed24"
      },
      "source": [
        "len(df[df.Status=='yes'])\n",
        "len(df[df.Status=='No'])"
      ],
      "execution_count": null,
      "outputs": [
        {
          "output_type": "execute_result",
          "data": {
            "text/plain": [
              "206"
            ]
          },
          "metadata": {
            "tags": []
          },
          "execution_count": 8
        }
      ]
    },
    {
      "cell_type": "code",
      "metadata": {
        "id": "zALB31Tw3I40"
      },
      "source": [
        "df.Status = df.Status.replace({'yes': 1, 'No': 0})"
      ],
      "execution_count": null,
      "outputs": []
    },
    {
      "cell_type": "code",
      "metadata": {
        "colab": {
          "base_uri": "https://localhost:8080/"
        },
        "id": "FkhbSjDR3I7S",
        "outputId": "88e4a316-bbcb-40c3-f3ff-899dbfc3f879"
      },
      "source": [
        "df['Status']"
      ],
      "execution_count": null,
      "outputs": [
        {
          "output_type": "execute_result",
          "data": {
            "text/plain": [
              "0      1\n",
              "1      1\n",
              "2      0\n",
              "3      1\n",
              "4      1\n",
              "      ..\n",
              "438    1\n",
              "439    1\n",
              "440    1\n",
              "441    1\n",
              "442    1\n",
              "Name: Status, Length: 443, dtype: int64"
            ]
          },
          "metadata": {
            "tags": []
          },
          "execution_count": 10
        }
      ]
    },
    {
      "cell_type": "code",
      "metadata": {
        "colab": {
          "base_uri": "https://localhost:8080/"
        },
        "id": "VRyBnN4u3I9u",
        "outputId": "ff15f0b3-1b4a-4e4f-8842-69a70a97147e"
      },
      "source": [
        "for i in range(5):\n",
        "  print(\"TypeOfOpinion:\",i+1)\n",
        "  print(\"Details:\",df.TypeOfOpinion[i])"
      ],
      "execution_count": null,
      "outputs": [
        {
          "output_type": "stream",
          "text": [
            "TypeOfOpinion: 1\n",
            "Details: স্বাস্থ সচেতন হয়েছি, এই সময়ে সময়ে এক্সট্রা এ এক্টিভেটিস করার যথেষ্ট সময় পেয়েছি, কভিড-১৯ এ আক্রান্ত হয়েছি, পড়ালেখা বিঘ্নিত হয়েছে\n",
            "TypeOfOpinion: 2\n",
            "Details: স্বাস্থ সচেতন হয়েছি, এই সময়ে সময়ে এক্সট্রা এ এক্টিভেটিস করার যথেষ্ট সময় পেয়েছি\n",
            "TypeOfOpinion: 3\n",
            "Details: স্বাস্থ সচেতন হয়েছি, এই সময়ে সময়ে এক্সট্রা এ এক্টিভেটিস করার যথেষ্ট সময় পেয়েছি, পড়ালেখা বিঘ্নিত হয়েছে\n",
            "TypeOfOpinion: 4\n",
            "Details: পড়ালেখা বিঘ্নিত হয়েছে\n",
            "TypeOfOpinion: 5\n",
            "Details: স্বাস্থ সচেতন হয়েছি, পড়ালেখা বিঘ্নিত হয়েছে\n"
          ],
          "name": "stdout"
        }
      ]
    },
    {
      "cell_type": "code",
      "metadata": {
        "id": "3QzYN1_A3JAM"
      },
      "source": [
        "import matplotlib.pyplot as plt\n",
        "\n",
        "import seaborn as sns\n",
        "\n",
        "%matplotlib inline"
      ],
      "execution_count": null,
      "outputs": []
    },
    {
      "cell_type": "code",
      "metadata": {
        "colab": {
          "base_uri": "https://localhost:8080/",
          "height": 282
        },
        "id": "9bBdcwMZ3heQ",
        "outputId": "2d90ed2c-2812-4f52-e5c7-2d6dde6fb86e"
      },
      "source": [
        "df['Status'].plot(kind='hist')"
      ],
      "execution_count": null,
      "outputs": [
        {
          "output_type": "execute_result",
          "data": {
            "text/plain": [
              "<matplotlib.axes._subplots.AxesSubplot at 0x7f3c01623110>"
            ]
          },
          "metadata": {
            "tags": []
          },
          "execution_count": 13
        },
        {
          "output_type": "display_data",
          "data": {
            "image/png": "[encoded data removed]",
            "text/plain": [
              "<Figure size 432x288 with 1 Axes>"
            ]
          },
          "metadata": {
            "tags": [],
            "needs_background": "light"
          }
        }
      ]
    },
    {
      "cell_type": "code",
      "metadata": {
        "colab": {
          "base_uri": "https://localhost:8080/",
          "height": 359
        },
        "id": "ctXvc31Y3hgt",
        "outputId": "d1abf9c2-4147-4fc3-ec25-7cbfef614ede"
      },
      "source": [
        "df['length'] = df['TypeOfOpinion'].str.split().apply(len)\n",
        "df.head(10)"
      ],
      "execution_count": null,
      "outputs": [
        {
          "output_type": "execute_result",
          "data": {
            "text/html": [
              "<div>\n",
              "<style scoped>\n",
              "    .dataframe tbody tr th:only-of-type {\n",
              "        vertical-align: middle;\n",
              "    }\n",
              "\n",
              "    .dataframe tbody tr th {\n",
              "        vertical-align: top;\n",
              "    }\n",
              "\n",
              "    .dataframe thead th {\n",
              "        text-align: right;\n",
              "    }\n",
              "</style>\n",
              "<table border=\"1\" class=\"dataframe\">\n",
              "  <thead>\n",
              "    <tr style=\"text-align: right;\">\n",
              "      <th></th>\n",
              "      <th>TypeOfOpinion</th>\n",
              "      <th>Status</th>\n",
              "      <th>length</th>\n",
              "    </tr>\n",
              "  </thead>\n",
              "  <tbody>\n",
              "    <tr>\n",
              "      <th>0</th>\n",
              "      <td>স্বাস্থ সচেতন হয়েছি, এই সময়ে সময়ে এক্সট্রা এ এ...</td>\n",
              "      <td>1</td>\n",
              "      <td>20</td>\n",
              "    </tr>\n",
              "    <tr>\n",
              "      <th>1</th>\n",
              "      <td>স্বাস্থ সচেতন হয়েছি, এই সময়ে সময়ে এক্সট্রা এ এ...</td>\n",
              "      <td>1</td>\n",
              "      <td>13</td>\n",
              "    </tr>\n",
              "    <tr>\n",
              "      <th>2</th>\n",
              "      <td>স্বাস্থ সচেতন হয়েছি, এই সময়ে সময়ে এক্সট্রা এ এ...</td>\n",
              "      <td>0</td>\n",
              "      <td>16</td>\n",
              "    </tr>\n",
              "    <tr>\n",
              "      <th>3</th>\n",
              "      <td>পড়ালেখা বিঘ্নিত হয়েছে</td>\n",
              "      <td>1</td>\n",
              "      <td>3</td>\n",
              "    </tr>\n",
              "    <tr>\n",
              "      <th>4</th>\n",
              "      <td>স্বাস্থ সচেতন হয়েছি, পড়ালেখা বিঘ্নিত হয়েছে</td>\n",
              "      <td>1</td>\n",
              "      <td>6</td>\n",
              "    </tr>\n",
              "    <tr>\n",
              "      <th>5</th>\n",
              "      <td>স্বাস্থ সচেতন হয়েছি</td>\n",
              "      <td>0</td>\n",
              "      <td>3</td>\n",
              "    </tr>\n",
              "    <tr>\n",
              "      <th>6</th>\n",
              "      <td>স্বাস্থ সচেতন হয়েছি, পড়ালেখা বিঘ্নিত হয়েছে</td>\n",
              "      <td>0</td>\n",
              "      <td>6</td>\n",
              "    </tr>\n",
              "    <tr>\n",
              "      <th>7</th>\n",
              "      <td>স্বাস্থ সচেতন হয়েছি, এই সময়ে সময়ে এক্সট্রা এ এ...</td>\n",
              "      <td>1</td>\n",
              "      <td>13</td>\n",
              "    </tr>\n",
              "    <tr>\n",
              "      <th>8</th>\n",
              "      <td>স্বাস্থ সচেতন হয়েছি</td>\n",
              "      <td>0</td>\n",
              "      <td>3</td>\n",
              "    </tr>\n",
              "    <tr>\n",
              "      <th>9</th>\n",
              "      <td>স্বাস্থ সচেতন হয়েছি</td>\n",
              "      <td>0</td>\n",
              "      <td>3</td>\n",
              "    </tr>\n",
              "  </tbody>\n",
              "</table>\n",
              "</div>"
            ],
            "text/plain": [
              "                                       TypeOfOpinion  Status  length\n",
              "0  স্বাস্থ সচেতন হয়েছি, এই সময়ে সময়ে এক্সট্রা এ এ...       1      20\n",
              "1  স্বাস্থ সচেতন হয়েছি, এই সময়ে সময়ে এক্সট্রা এ এ...       1      13\n",
              "2  স্বাস্থ সচেতন হয়েছি, এই সময়ে সময়ে এক্সট্রা এ এ...       0      16\n",
              "3                              পড়ালেখা বিঘ্নিত হয়েছে       1       3\n",
              "4         স্বাস্থ সচেতন হয়েছি, পড়ালেখা বিঘ্নিত হয়েছে       1       6\n",
              "5                                স্বাস্থ সচেতন হয়েছি       0       3\n",
              "6         স্বাস্থ সচেতন হয়েছি, পড়ালেখা বিঘ্নিত হয়েছে       0       6\n",
              "7  স্বাস্থ সচেতন হয়েছি, এই সময়ে সময়ে এক্সট্রা এ এ...       1      13\n",
              "8                                স্বাস্থ সচেতন হয়েছি       0       3\n",
              "9                                স্বাস্থ সচেতন হয়েছি       0       3"
            ]
          },
          "metadata": {
            "tags": []
          },
          "execution_count": 14
        }
      ]
    },
    {
      "cell_type": "code",
      "metadata": {
        "colab": {
          "base_uri": "https://localhost:8080/",
          "height": 388
        },
        "id": "CHrVarnN3hjV",
        "outputId": "5b149b12-ef88-434b-c67a-bf3ee7910a36"
      },
      "source": [
        "df.hist(column='length', by = 'Status',bins = 20, figsize=(10,5))"
      ],
      "execution_count": null,
      "outputs": [
        {
          "output_type": "execute_result",
          "data": {
            "text/plain": [
              "array([<matplotlib.axes._subplots.AxesSubplot object at 0x7f3c0156dfd0>,\n",
              "       <matplotlib.axes._subplots.AxesSubplot object at 0x7f3c010da850>],\n",
              "      dtype=object)"
            ]
          },
          "metadata": {
            "tags": []
          },
          "execution_count": 15
        },
        {
          "output_type": "display_data",
          "data": {
            "image/png": "[encoded data removed]",
            "text/plain": [
              "<Figure size 720x360 with 2 Axes>"
            ]
          },
          "metadata": {
            "tags": [],
            "needs_background": "light"
          }
        }
      ]
    },
    {
      "cell_type": "code",
      "metadata": {
        "colab": {
          "base_uri": "https://localhost:8080/"
        },
        "id": "Wbv7MkH-3hlq",
        "outputId": "f6ea1a4a-c9e5-4cc6-be14-0f16d01e9468"
      },
      "source": [
        "df.length.describe()"
      ],
      "execution_count": null,
      "outputs": [
        {
          "output_type": "execute_result",
          "data": {
            "text/plain": [
              "count    443.000000\n",
              "mean      10.112867\n",
              "std        6.333556\n",
              "min        3.000000\n",
              "25%        5.000000\n",
              "50%        8.000000\n",
              "75%       16.000000\n",
              "max       30.000000\n",
              "Name: length, dtype: float64"
            ]
          },
          "metadata": {
            "tags": []
          },
          "execution_count": 16
        }
      ]
    },
    {
      "cell_type": "code",
      "metadata": {
        "id": "boc1ww9J3JCl"
      },
      "source": [
        "import numpy as np\n",
        "import tensorflow as tf\n",
        "from tensorflow.keras import layers , activations , models , preprocessing , utils\n",
        "\n",
        "import pandas as pd\n",
        "import matplotlib.pyplot as plt"
      ],
      "execution_count": null,
      "outputs": []
    },
    {
      "cell_type": "code",
      "metadata": {
        "id": "qrKvjSsi3JHW"
      },
      "source": [
        "import itertools\n",
        "import os\n",
        "import numpy as np # linear algebra\n",
        "%matplotlib inline\n",
        "import matplotlib.pyplot as plt\n",
        "import numpy as np\n",
        "import pandas as pd\n",
        "import tensorflow as tf\n",
        "\n",
        "from sklearn.preprocessing import LabelBinarizer, LabelEncoder\n",
        "from sklearn.metrics import confusion_matrix\n",
        "\n",
        "from tensorflow import keras\n",
        "import keras.utils as ku\n",
        "from keras.callbacks import EarlyStopping\n",
        "from keras.utils.vis_utils import plot_model\n",
        "from keras.layers import Dropout\n",
        "from keras import optimizers\n",
        "from numpy.random import seed\n",
        "\n",
        "seed(1)\n",
        "from tensorflow import random\n",
        "random.set_seed(2)\n",
        "\n",
        "\n",
        "layers = keras.layers\n",
        "models = keras.models\n"
      ],
      "execution_count": null,
      "outputs": []
    },
    {
      "cell_type": "code",
      "metadata": {
        "id": "fQWfVy1E4EWv",
        "colab": {
          "base_uri": "https://localhost:8080/"
        },
        "outputId": "4ccadf81-e9f1-4383-b7d3-3693e232e623"
      },
      "source": [
        "df['Status'].value_counts()"
      ],
      "execution_count": null,
      "outputs": [
        {
          "output_type": "execute_result",
          "data": {
            "text/plain": [
              "1    237\n",
              "0    206\n",
              "Name: Status, dtype: int64"
            ]
          },
          "metadata": {
            "tags": []
          },
          "execution_count": 19
        }
      ]
    },
    {
      "cell_type": "code",
      "metadata": {
        "id": "J_g68zr54EZV",
        "colab": {
          "base_uri": "https://localhost:8080/"
        },
        "outputId": "99d345d1-dd91-4b9b-dd14-205c7c780605"
      },
      "source": [
        "train_size = int(len(df) * .75)\n",
        "print (\"Train size: %d\" % train_size)\n",
        "print (\"Test size: %d\" % (len(df) - train_size))\n"
      ],
      "execution_count": null,
      "outputs": [
        {
          "output_type": "stream",
          "text": [
            "Train size: 332\n",
            "Test size: 111\n"
          ],
          "name": "stdout"
        }
      ]
    },
    {
      "cell_type": "code",
      "metadata": {
        "id": "X4lhpgTj4Ebd"
      },
      "source": [
        "def train_test_split(df, train_size):\n",
        "    train = df[:train_size]\n",
        "    test = df[train_size:]\n",
        "    return train, test"
      ],
      "execution_count": null,
      "outputs": []
    },
    {
      "cell_type": "code",
      "metadata": {
        "id": "LeX7YBmV4Edi"
      },
      "source": [
        "train_text, test_text = train_test_split(df['TypeOfOpinion'], train_size,)\n",
        "train_cat, test_cat = train_test_split(df['Status'], train_size,)"
      ],
      "execution_count": null,
      "outputs": []
    },
    {
      "cell_type": "code",
      "metadata": {
        "id": "HHqPb2P54TqH"
      },
      "source": [
        "max_words = 800\n",
        "tokenize = keras.preprocessing.text.Tokenizer(num_words=max_words, \n",
        "                                              char_level=False)"
      ],
      "execution_count": null,
      "outputs": []
    },
    {
      "cell_type": "code",
      "metadata": {
        "id": "B_IQJfzU4TtF"
      },
      "source": [
        "tokenize.fit_on_texts(train_text)\n",
        "x_train = tokenize.texts_to_matrix(train_text)\n",
        "x_test = tokenize.texts_to_matrix(test_text)"
      ],
      "execution_count": null,
      "outputs": []
    },
    {
      "cell_type": "code",
      "metadata": {
        "id": "bUR58arS4Tv6"
      },
      "source": [
        "encoder = LabelEncoder()\n",
        "encoder.fit(train_cat)\n",
        "y_train = encoder.transform(train_cat)\n",
        "y_test = encoder.transform(test_cat)"
      ],
      "execution_count": null,
      "outputs": []
    },
    {
      "cell_type": "code",
      "metadata": {
        "id": "JcWnscq64Tyl"
      },
      "source": [
        "num_classes = np.max(y_train) + 1\n",
        "y_train = keras.utils.to_categorical(y_train, num_classes)\n",
        "y_test = keras.utils.to_categorical(y_test, num_classes)"
      ],
      "execution_count": null,
      "outputs": []
    },
    {
      "cell_type": "code",
      "metadata": {
        "id": "knHKVxyb4fII",
        "colab": {
          "base_uri": "https://localhost:8080/"
        },
        "outputId": "9ce30c27-6332-42c0-9e68-1d6d3dd92615"
      },
      "source": [
        "print('x_train shape:', x_train.shape)\n",
        "print('x_test shape:', x_test.shape)\n",
        "print('y_train shape:', y_train.shape)\n",
        "print('y_test shape:', y_test.shape)"
      ],
      "execution_count": null,
      "outputs": [
        {
          "output_type": "stream",
          "text": [
            "x_train shape: (332, 800)\n",
            "x_test shape: (111, 800)\n",
            "y_train shape: (332, 2)\n",
            "y_test shape: (111, 2)\n"
          ],
          "name": "stdout"
        }
      ]
    },
    {
      "cell_type": "code",
      "metadata": {
        "id": "LVeTycXt4fKO"
      },
      "source": [
        "batch_size = 52\n",
        "epochs = 15\n",
        "adam=keras.optimizers.Adam(learning_rate=0.0005, beta_1=0.9, beta_2=0.999, amsgrad=False)"
      ],
      "execution_count": null,
      "outputs": []
    },
    {
      "cell_type": "code",
      "metadata": {
        "id": "cJkKc5IE4fMp",
        "colab": {
          "base_uri": "https://localhost:8080/"
        },
        "outputId": "242cd230-54d9-4bf9-fd93-f9b00dd4c47d"
      },
      "source": [
        "model = models.Sequential()\n",
        "model.add(layers.Dense(256,kernel_initializer='uniform',input_shape=(max_words,)))\n",
        "model.add(layers.Dropout(0.2))\n",
        "model.add(layers.Activation('relu'))\n",
        "model.add(layers.Dense(num_classes))\n",
        "model.add(layers.Dropout(0.2))\n",
        "model.add(layers.Activation('softmax'))\n",
        "model.compile(loss='categorical_crossentropy',optimizer=adam,metrics=['accuracy'])\n",
        "model.summary()"
      ],
      "execution_count": null,
      "outputs": [
        {
          "output_type": "stream",
          "text": [
            "Model: \"sequential\"\n",
            "_________________________________________________________________\n",
            "Layer (type)                 Output Shape              Param #   \n",
            "=================================================================\n",
            "dense (Dense)                (None, 256)               205056    \n",
            "_________________________________________________________________\n",
            "dropout (Dropout)            (None, 256)               0         \n",
            "_________________________________________________________________\n",
            "activation (Activation)      (None, 256)               0         \n",
            "_________________________________________________________________\n",
            "dense_1 (Dense)              (None, 2)                 514       \n",
            "_________________________________________________________________\n",
            "dropout_1 (Dropout)          (None, 2)                 0         \n",
            "_________________________________________________________________\n",
            "activation_1 (Activation)    (None, 2)                 0         \n",
            "=================================================================\n",
            "Total params: 205,570\n",
            "Trainable params: 205,570\n",
            "Non-trainable params: 0\n",
            "_________________________________________________________________\n"
          ],
          "name": "stdout"
        }
      ]
    },
    {
      "cell_type": "code",
      "metadata": {
        "id": "2MNKhTuf4l8A",
        "colab": {
          "base_uri": "https://localhost:8080/"
        },
        "outputId": "f7bd8de5-e313-4f49-9997-512fd70ec843"
      },
      "source": [
        "history = model.fit(x_train, y_train,\n",
        "                    batch_size=batch_size,\n",
        "                    epochs=epochs,\n",
        "                    verbose=2,\n",
        "                    validation_split=0.15)"
      ],
      "execution_count": null,
      "outputs": [
        {
          "output_type": "stream",
          "text": [
            "Epoch 1/15\n",
            "6/6 - 1s - loss: 0.6891 - accuracy: 0.5355 - val_loss: 0.6350 - val_accuracy: 0.7200\n",
            "Epoch 2/15\n",
            "6/6 - 0s - loss: 0.6642 - accuracy: 0.6135 - val_loss: 0.5940 - val_accuracy: 0.8200\n",
            "Epoch 3/15\n",
            "6/6 - 0s - loss: 0.6526 - accuracy: 0.6560 - val_loss: 0.5605 - val_accuracy: 0.8200\n",
            "Epoch 4/15\n",
            "6/6 - 0s - loss: 0.6394 - accuracy: 0.6950 - val_loss: 0.5268 - val_accuracy: 0.8600\n",
            "Epoch 5/15\n",
            "6/6 - 0s - loss: 0.6283 - accuracy: 0.6844 - val_loss: 0.4992 - val_accuracy: 0.8600\n",
            "Epoch 6/15\n",
            "6/6 - 0s - loss: 0.6151 - accuracy: 0.7021 - val_loss: 0.4729 - val_accuracy: 0.8600\n",
            "Epoch 7/15\n",
            "6/6 - 0s - loss: 0.5922 - accuracy: 0.7021 - val_loss: 0.4515 - val_accuracy: 0.9000\n",
            "Epoch 8/15\n",
            "6/6 - 0s - loss: 0.5944 - accuracy: 0.7021 - val_loss: 0.4303 - val_accuracy: 0.9000\n",
            "Epoch 9/15\n",
            "6/6 - 0s - loss: 0.5869 - accuracy: 0.7021 - val_loss: 0.4188 - val_accuracy: 0.9000\n",
            "Epoch 10/15\n",
            "6/6 - 0s - loss: 0.5827 - accuracy: 0.6950 - val_loss: 0.4061 - val_accuracy: 0.9000\n",
            "Epoch 11/15\n",
            "6/6 - 0s - loss: 0.5873 - accuracy: 0.6809 - val_loss: 0.3965 - val_accuracy: 0.9000\n",
            "Epoch 12/15\n",
            "6/6 - 0s - loss: 0.5946 - accuracy: 0.6986 - val_loss: 0.3926 - val_accuracy: 0.9000\n",
            "Epoch 13/15\n",
            "6/6 - 0s - loss: 0.5981 - accuracy: 0.7021 - val_loss: 0.3853 - val_accuracy: 0.9400\n",
            "Epoch 14/15\n",
            "6/6 - 0s - loss: 0.5753 - accuracy: 0.6986 - val_loss: 0.3794 - val_accuracy: 0.9400\n",
            "Epoch 15/15\n",
            "6/6 - 0s - loss: 0.5790 - accuracy: 0.7199 - val_loss: 0.3803 - val_accuracy: 0.9400\n"
          ],
          "name": "stdout"
        }
      ]
    },
    {
      "cell_type": "code",
      "metadata": {
        "id": "XKuVvRaQ4l-x",
        "colab": {
          "base_uri": "https://localhost:8080/"
        },
        "outputId": "0208b8ff-5e84-4de4-882d-2d145d9fd44d"
      },
      "source": [
        "score = model.evaluate(x_train, y_train,\n",
        "                       batch_size=batch_size, verbose=2)\n",
        "print('Train loss:', score[0])\n",
        "print('Train accuracy:', score[1])\n"
      ],
      "execution_count": null,
      "outputs": [
        {
          "output_type": "stream",
          "text": [
            "7/7 - 0s - loss: 0.5403 - accuracy: 0.7500\n",
            "Train loss: 0.5403184294700623\n",
            "Train accuracy: 0.75\n"
          ],
          "name": "stdout"
        }
      ]
    },
    {
      "cell_type": "code",
      "metadata": {
        "id": "iTDEF69v4mB7",
        "colab": {
          "base_uri": "https://localhost:8080/"
        },
        "outputId": "4a822c59-ebda-4fbc-850d-0488d7d55e9c"
      },
      "source": [
        "score = model.evaluate(x_test, y_test,\n",
        "                       batch_size=batch_size, verbose=2)\n",
        "print('Test loss:', score[0]) \n",
        "print('Test accuracy:', score[1])"
      ],
      "execution_count": null,
      "outputs": [
        {
          "output_type": "stream",
          "text": [
            "3/3 - 0s - loss: 0.5508 - accuracy: 0.7117\n",
            "Test loss: 0.5507960915565491\n",
            "Test accuracy: 0.7117117047309875\n"
          ],
          "name": "stdout"
        }
      ]
    },
    {
      "cell_type": "code",
      "metadata": {
        "id": "MkWpS26g4mD1",
        "colab": {
          "base_uri": "https://localhost:8080/",
          "height": 336
        },
        "outputId": "6d0b3625-9ea6-4d14-dc15-24c33b76207d"
      },
      "source": [
        "def plot_history(history):\n",
        "    acc = history.history['accuracy']\n",
        "    val_acc = history.history['val_accuracy']\n",
        "    loss = history.history['loss']\n",
        "    val_loss = history.history['val_loss']\n",
        "    x = range(1, len(acc) + 1)\n",
        "    \n",
        "    plt.figure(figsize=(12, 5))\n",
        "    plt.subplot(1, 2, 1)\n",
        "    plt.plot(x, acc, 'b', label='Training acc')\n",
        "    plt.plot(x, val_acc, 'r', label='Validation acc')\n",
        "    plt.title('Training and validation accuracy')\n",
        "    plt.legend()\n",
        "    plt.subplot(1, 2, 2)\n",
        "    plt.plot(x, loss, 'b', label='Training loss')\n",
        "    plt.plot(x, val_loss, 'r', label='Validation loss')\n",
        "    plt.title('Training and validation loss')\n",
        "    plt.legend()\n",
        "plot_history(history)\n",
        "images_dir = '/content/drive/MyDrive/Research'\n",
        "plt.savefig(f\"{images_dir}/abc.jpg\")\n"
      ],
      "execution_count": null,
      "outputs": [
        {
          "output_type": "display_data",
          "data": {
            "image/png": "[encoded data removed]",
            "text/plain": [
              "<Figure size 864x360 with 2 Axes>"
            ]
          },
          "metadata": {
            "tags": [],
            "needs_background": "light"
          }
        }
      ]
    },
    {
      "cell_type": "code",
      "metadata": {
        "id": "wQQQd0jt4mGb",
        "colab": {
          "base_uri": "https://localhost:8080/"
        },
        "outputId": "53c17ee9-06ef-4938-e158-d8e340504b27"
      },
      "source": [
        "text_labels = encoder.classes_ \n",
        "for i in range(10):\n",
        "    prediction = model.predict(np.array([x_test[i]]))\n",
        "    predicted_label = text_labels[np.argmax(prediction)]\n",
        "    print(test_text.iloc[i][:50], \"...\")\n",
        "    kj = str(test_cat.iloc[i])\n",
        "    mj = str(predicted_label)\n",
        "    print('Actual Status:' + kj)\n",
        "    print(\"Predicted Status: \" + mj + \"\\n\")  "
      ],
      "execution_count": null,
      "outputs": [
        {
          "output_type": "stream",
          "text": [
            "পরিবারের সাথে দূরত্ব সৃষ্টি হয়েছে ...\n",
            "Actual Status:0\n",
            "Predicted Status: 1\n",
            "\n",
            "পরিবারের সাথে দূরত্ব সৃষ্টি হয়েছে ...\n",
            "Actual Status:1\n",
            "Predicted Status: 1\n",
            "\n",
            "পরিবারের সাথে দূরত্ব সৃষ্টি হয়েছে ...\n",
            "Actual Status:1\n",
            "Predicted Status: 1\n",
            "\n",
            "স্বাস্থ সচেতন হয়েছি, কভিড-১৯ এ আক্রান্ত হয়েছি ...\n",
            "Actual Status:0\n",
            "Predicted Status: 1\n",
            "\n",
            "স্বাস্থ সচেতন হয়েছি, এই সময়ে সময়ে এক্সট্রা এ এক্টি ...\n",
            "Actual Status:0\n",
            "Predicted Status: 0\n",
            "\n",
            "স্বাস্থ সচেতন হয়েছি, কভিড-১৯ এ আক্রান্ত হয়েছি ...\n",
            "Actual Status:0\n",
            "Predicted Status: 1\n",
            "\n",
            "কভিড-১৯ এ আক্রান্ত হয়েছি, পরিবারের সাথে দূরত্ব সৃষ ...\n",
            "Actual Status:1\n",
            "Predicted Status: 1\n",
            "\n",
            "স্বাস্থ সচেতন হয়েছি, কভিড-১৯ এ আক্রান্ত হয়েছি, পড়া ...\n",
            "Actual Status:1\n",
            "Predicted Status: 1\n",
            "\n",
            "স্বাস্থ সচেতন হয়েছি ...\n",
            "Actual Status:0\n",
            "Predicted Status: 0\n",
            "\n",
            "অনলাইন বিজনেস এ লাভবান হয়েছি, পড়ালেখা বিঘ্নিত হয়েছ ...\n",
            "Actual Status:0\n",
            "Predicted Status: 1\n",
            "\n"
          ],
          "name": "stdout"
        }
      ]
    }
  ]
}